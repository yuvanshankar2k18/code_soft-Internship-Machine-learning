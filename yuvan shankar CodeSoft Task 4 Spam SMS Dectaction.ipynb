{
 "cells": [
  {
   "cell_type": "code",
   "execution_count": 1,
   "id": "a625fcf8",
   "metadata": {
    "_cell_guid": "b1076dfc-b9ad-4769-8c92-a6c4dae69d19",
    "_uuid": "8f2839f25d086af736a60e9eeb907d3b93b6e0e5",
    "execution": {
     "iopub.execute_input": "2024-02-27T01:05:10.210911Z",
     "iopub.status.busy": "2024-02-27T01:05:10.210172Z",
     "iopub.status.idle": "2024-02-27T01:05:13.411374Z",
     "shell.execute_reply": "2024-02-27T01:05:13.409854Z"
    },
    "papermill": {
     "duration": 3.211986,
     "end_time": "2024-02-27T01:05:13.414038",
     "exception": false,
     "start_time": "2024-02-27T01:05:10.202052",
     "status": "completed"
    },
    "tags": []
   },
   "outputs": [
    {
     "name": "stdout",
     "output_type": "stream",
     "text": [
      "/kaggle/input/sms-spam-collection-dataset/spam.csv\n"
     ]
    }
   ],
   "source": [
    "# This Python 3 environment comes with many helpful analytics libraries installed\n",
    "# It is defined by the kaggle/python Docker image: https://github.com/kaggle/docker-python\n",
    "# For example, here's several helpful packages to load\n",
    "\n",
    "import numpy as np # linear algebra\n",
    "import pandas as pd # data processing, CSV file I/O (e.g. pd.read_csv)\n",
    "import numpy as np \n",
    "import pandas as pd\n",
    "import re\n",
    "from collections import defaultdict\n",
    "from math import log, exp\n",
    "import nltk\n",
    "from math import *\n",
    "# Input data files are available in the read-only \"../input/\" directory\n",
    "# For example, running this (by clicking run or pressing Shift+Enter) will list all files under the input directory\n",
    "\n",
    "import os\n",
    "for dirname, _, filenames in os.walk('/kaggle/input'):\n",
    "    for filename in filenames:\n",
    "        print(os.path.join(dirname, filename))\n",
    "\n",
    "# You can write up to 20GB to the current directory (/kaggle/working/) that gets preserved as output when you create a version using \"Save & Run All\" \n",
    "# You can also write temporary files to /kaggle/temp/, but they won't be saved outside of the current session"
   ]
  },
  {
   "cell_type": "markdown",
   "id": "87512d3e",
   "metadata": {
    "papermill": {
     "duration": 0.006277,
     "end_time": "2024-02-27T01:05:13.426790",
     "exception": false,
     "start_time": "2024-02-27T01:05:13.420513",
     "status": "completed"
    },
    "tags": []
   },
   "source": [
    "# **Bayesian Filtering**"
   ]
  },
  {
   "cell_type": "code",
   "execution_count": 2,
   "id": "a4c1482d",
   "metadata": {
    "execution": {
     "iopub.execute_input": "2024-02-27T01:05:13.441413Z",
     "iopub.status.busy": "2024-02-27T01:05:13.440896Z",
     "iopub.status.idle": "2024-02-27T01:05:13.525144Z",
     "shell.execute_reply": "2024-02-27T01:05:13.523803Z"
    },
    "papermill": {
     "duration": 0.094365,
     "end_time": "2024-02-27T01:05:13.527566",
     "exception": false,
     "start_time": "2024-02-27T01:05:13.433201",
     "status": "completed"
    },
    "tags": []
   },
   "outputs": [
    {
     "data": {
      "text/html": [
       "<div>\n",
       "<style scoped>\n",
       "    .dataframe tbody tr th:only-of-type {\n",
       "        vertical-align: middle;\n",
       "    }\n",
       "\n",
       "    .dataframe tbody tr th {\n",
       "        vertical-align: top;\n",
       "    }\n",
       "\n",
       "    .dataframe thead th {\n",
       "        text-align: right;\n",
       "    }\n",
       "</style>\n",
       "<table border=\"1\" class=\"dataframe\">\n",
       "  <thead>\n",
       "    <tr style=\"text-align: right;\">\n",
       "      <th></th>\n",
       "      <th>v1</th>\n",
       "      <th>v2</th>\n",
       "      <th>Unnamed: 2</th>\n",
       "      <th>Unnamed: 3</th>\n",
       "      <th>Unnamed: 4</th>\n",
       "    </tr>\n",
       "  </thead>\n",
       "  <tbody>\n",
       "    <tr>\n",
       "      <th>0</th>\n",
       "      <td>ham</td>\n",
       "      <td>Go until jurong point, crazy.. Available only ...</td>\n",
       "      <td>NaN</td>\n",
       "      <td>NaN</td>\n",
       "      <td>NaN</td>\n",
       "    </tr>\n",
       "    <tr>\n",
       "      <th>1</th>\n",
       "      <td>ham</td>\n",
       "      <td>Ok lar... Joking wif u oni...</td>\n",
       "      <td>NaN</td>\n",
       "      <td>NaN</td>\n",
       "      <td>NaN</td>\n",
       "    </tr>\n",
       "    <tr>\n",
       "      <th>2</th>\n",
       "      <td>spam</td>\n",
       "      <td>Free entry in 2 a wkly comp to win FA Cup fina...</td>\n",
       "      <td>NaN</td>\n",
       "      <td>NaN</td>\n",
       "      <td>NaN</td>\n",
       "    </tr>\n",
       "    <tr>\n",
       "      <th>3</th>\n",
       "      <td>ham</td>\n",
       "      <td>U dun say so early hor... U c already then say...</td>\n",
       "      <td>NaN</td>\n",
       "      <td>NaN</td>\n",
       "      <td>NaN</td>\n",
       "    </tr>\n",
       "    <tr>\n",
       "      <th>4</th>\n",
       "      <td>ham</td>\n",
       "      <td>Nah I don't think he goes to usf, he lives aro...</td>\n",
       "      <td>NaN</td>\n",
       "      <td>NaN</td>\n",
       "      <td>NaN</td>\n",
       "    </tr>\n",
       "  </tbody>\n",
       "</table>\n",
       "</div>"
      ],
      "text/plain": [
       "     v1                                                 v2 Unnamed: 2  \\\n",
       "0   ham  Go until jurong point, crazy.. Available only ...        NaN   \n",
       "1   ham                      Ok lar... Joking wif u oni...        NaN   \n",
       "2  spam  Free entry in 2 a wkly comp to win FA Cup fina...        NaN   \n",
       "3   ham  U dun say so early hor... U c already then say...        NaN   \n",
       "4   ham  Nah I don't think he goes to usf, he lives aro...        NaN   \n",
       "\n",
       "  Unnamed: 3 Unnamed: 4  \n",
       "0        NaN        NaN  \n",
       "1        NaN        NaN  \n",
       "2        NaN        NaN  \n",
       "3        NaN        NaN  \n",
       "4        NaN        NaN  "
      ]
     },
     "metadata": {},
     "output_type": "display_data"
    },
    {
     "name": "stdout",
     "output_type": "stream",
     "text": [
      "<class 'pandas.core.frame.DataFrame'>\n",
      "RangeIndex: 5572 entries, 0 to 5571\n",
      "Data columns (total 5 columns):\n",
      " #   Column      Non-Null Count  Dtype \n",
      "---  ------      --------------  ----- \n",
      " 0   v1          5572 non-null   object\n",
      " 1   v2          5572 non-null   object\n",
      " 2   Unnamed: 2  50 non-null     object\n",
      " 3   Unnamed: 3  12 non-null     object\n",
      " 4   Unnamed: 4  6 non-null      object\n",
      "dtypes: object(5)\n",
      "memory usage: 217.8+ KB\n",
      "None\n"
     ]
    }
   ],
   "source": [
    "# Load the dataset\n",
    "spam_data = pd.read_csv('/kaggle/input/sms-spam-collection-dataset/spam.csv',encoding = 'latin-1')\n",
    "\n",
    "# Display the first few rows of the dataframe\n",
    "display(spam_data.head())\n",
    "\n",
    "# Display basic information about the dataset\n",
    "print(spam_data.info())"
   ]
  },
  {
   "cell_type": "code",
   "execution_count": 3,
   "id": "1477c4e2",
   "metadata": {
    "execution": {
     "iopub.execute_input": "2024-02-27T01:05:13.542517Z",
     "iopub.status.busy": "2024-02-27T01:05:13.542080Z",
     "iopub.status.idle": "2024-02-27T01:05:13.562367Z",
     "shell.execute_reply": "2024-02-27T01:05:13.561323Z"
    },
    "papermill": {
     "duration": 0.030384,
     "end_time": "2024-02-27T01:05:13.564695",
     "exception": false,
     "start_time": "2024-02-27T01:05:13.534311",
     "status": "completed"
    },
    "tags": []
   },
   "outputs": [
    {
     "data": {
      "text/plain": [
       "0"
      ]
     },
     "execution_count": 3,
     "metadata": {},
     "output_type": "execute_result"
    }
   ],
   "source": [
    "data= spam_data.drop_duplicates(keep='first')\n",
    "data.duplicated().sum()"
   ]
  },
  {
   "cell_type": "code",
   "execution_count": 4,
   "id": "5ce9ead2",
   "metadata": {
    "execution": {
     "iopub.execute_input": "2024-02-27T01:05:13.579604Z",
     "iopub.status.busy": "2024-02-27T01:05:13.579193Z",
     "iopub.status.idle": "2024-02-27T01:05:13.663706Z",
     "shell.execute_reply": "2024-02-27T01:05:13.662533Z"
    },
    "papermill": {
     "duration": 0.095485,
     "end_time": "2024-02-27T01:05:13.666774",
     "exception": false,
     "start_time": "2024-02-27T01:05:13.571289",
     "status": "completed"
    },
    "tags": []
   },
   "outputs": [
    {
     "name": "stderr",
     "output_type": "stream",
     "text": [
      "/tmp/ipykernel_18/2052052726.py:8: SettingWithCopyWarning: \n",
      "A value is trying to be set on a copy of a slice from a DataFrame.\n",
      "Try using .loc[row_indexer,col_indexer] = value instead\n",
      "\n",
      "See the caveats in the documentation: https://pandas.pydata.org/pandas-docs/stable/user_guide/indexing.html#returning-a-view-versus-a-copy\n",
      "  data.loc[:, \"Clean_Text\"] = data[\"v2\"].apply(clean_text)\n"
     ]
    }
   ],
   "source": [
    "def clean_text(text):\n",
    "    clean = re.sub('[^a-zA-Z]', ' ', text) # Replacing all non-alphabetic characters with a space\n",
    "    clean = clean.lower() # converting to lowecase\n",
    "    clean = clean.split() # splits the cleaned text sms into a list of words\n",
    "    clean = ' '.join(clean) # joins the list of words back into a string, using a single space as the separator between the words\n",
    "    return clean\n",
    "\n",
    "data.loc[:, \"Clean_Text\"] = data[\"v2\"].apply(clean_text)"
   ]
  },
  {
   "cell_type": "code",
   "execution_count": 5,
   "id": "ce589ffd",
   "metadata": {
    "execution": {
     "iopub.execute_input": "2024-02-27T01:05:13.682178Z",
     "iopub.status.busy": "2024-02-27T01:05:13.681785Z",
     "iopub.status.idle": "2024-02-27T01:05:13.690537Z",
     "shell.execute_reply": "2024-02-27T01:05:13.689720Z"
    },
    "papermill": {
     "duration": 0.019034,
     "end_time": "2024-02-27T01:05:13.692630",
     "exception": false,
     "start_time": "2024-02-27T01:05:13.673596",
     "status": "completed"
    },
    "tags": []
   },
   "outputs": [
    {
     "data": {
      "text/plain": [
       "0       Go until jurong point, crazy.. Available only ...\n",
       "1                           Ok lar... Joking wif u oni...\n",
       "2       Free entry in 2 a wkly comp to win FA Cup fina...\n",
       "3       U dun say so early hor... U c already then say...\n",
       "4       Nah I don't think he goes to usf, he lives aro...\n",
       "                              ...                        \n",
       "5567    This is the 2nd time we have tried 2 contact u...\n",
       "5568                Will Ì_ b going to esplanade fr home?\n",
       "5569    Pity, * was in mood for that. So...any other s...\n",
       "5570    The guy did some bitching but I acted like i'd...\n",
       "5571                           Rofl. Its true to its name\n",
       "Name: v2, Length: 5572, dtype: object"
      ]
     },
     "execution_count": 5,
     "metadata": {},
     "output_type": "execute_result"
    }
   ],
   "source": [
    "messages = spam_data['v2']\n",
    "messages"
   ]
  },
  {
   "cell_type": "code",
   "execution_count": 6,
   "id": "3649adfe",
   "metadata": {
    "execution": {
     "iopub.execute_input": "2024-02-27T01:05:13.709206Z",
     "iopub.status.busy": "2024-02-27T01:05:13.708060Z",
     "iopub.status.idle": "2024-02-27T01:05:13.716258Z",
     "shell.execute_reply": "2024-02-27T01:05:13.715402Z"
    },
    "papermill": {
     "duration": 0.018782,
     "end_time": "2024-02-27T01:05:13.718453",
     "exception": false,
     "start_time": "2024-02-27T01:05:13.699671",
     "status": "completed"
    },
    "tags": []
   },
   "outputs": [
    {
     "data": {
      "text/plain": [
       "0        ham\n",
       "1        ham\n",
       "2       spam\n",
       "3        ham\n",
       "4        ham\n",
       "        ... \n",
       "5567    spam\n",
       "5568     ham\n",
       "5569     ham\n",
       "5570     ham\n",
       "5571     ham\n",
       "Name: v1, Length: 5572, dtype: object"
      ]
     },
     "execution_count": 6,
     "metadata": {},
     "output_type": "execute_result"
    }
   ],
   "source": [
    "labels = spam_data['v1']\n",
    "labels"
   ]
  },
  {
   "cell_type": "code",
   "execution_count": 7,
   "id": "2e645236",
   "metadata": {
    "execution": {
     "iopub.execute_input": "2024-02-27T01:05:13.734888Z",
     "iopub.status.busy": "2024-02-27T01:05:13.734207Z",
     "iopub.status.idle": "2024-02-27T01:05:13.747519Z",
     "shell.execute_reply": "2024-02-27T01:05:13.746629Z"
    },
    "papermill": {
     "duration": 0.024488,
     "end_time": "2024-02-27T01:05:13.750074",
     "exception": false,
     "start_time": "2024-02-27T01:05:13.725586",
     "status": "completed"
    },
    "tags": []
   },
   "outputs": [],
   "source": [
    "class BayesianSpamFilter:\n",
    "    def __init__(self):\n",
    "        self.spam_word_counts = defaultdict(int)\n",
    "        self.ham_word_counts = defaultdict(int)\n",
    "        self.total_spam_words = 0\n",
    "        self.total_ham_words = 0\n",
    "        self.total_spam_messages = 0\n",
    "        self.total_ham_messages = 0\n",
    "\n",
    "    def train(self, messages, labels):\n",
    "        for message, label in zip(messages, labels):\n",
    "            words = self.extract_words(message)\n",
    "            if label == 'spam':\n",
    "                self.total_spam_messages += 1\n",
    "                for word in words:\n",
    "                    self.spam_word_counts[word] += 1\n",
    "                    self.total_spam_words += 1\n",
    "            else:\n",
    "                self.total_ham_messages += 1\n",
    "                for word in words:\n",
    "                    self.ham_word_counts[word] += 1\n",
    "                    self.total_ham_words += 1\n",
    "\n",
    "    def extract_words(self, message):\n",
    "        return re.findall(r'\\b\\w+\\b', message.lower())\n",
    "\n",
    "    def calculate_word_probabilities(self, message):\n",
    "        words = self.extract_words(message)\n",
    "        log_spam_probability = log(self.total_spam_messages / (self.total_spam_messages + self.total_ham_messages))\n",
    "        log_ham_probability = log(self.total_ham_messages / (self.total_spam_messages + self.total_ham_messages))\n",
    "        for word in words:\n",
    "            # Laplace smoothing\n",
    "            spam_word_probability = (self.spam_word_counts[word] + 1) / (self.total_spam_words + 2)\n",
    "            ham_word_probability = (self.ham_word_counts[word] + 1) / (self.total_ham_words + 2)\n",
    "            log_spam_probability += log(spam_word_probability)\n",
    "            log_ham_probability += log(ham_word_probability)\n",
    "        return log_spam_probability, log_ham_probability\n",
    "\n",
    "    def classify(self, message):\n",
    "        log_spam_probability, log_ham_probability = self.calculate_word_probabilities(message)\n",
    "        # Calculate spam probability using the logistic function on the difference of log probabilities\n",
    "        # to get a probability between 0 and 1\n",
    "        probability_difference = log_spam_probability - log_ham_probability\n",
    "        spam_probability = 1 / (1 + exp(-probability_difference))\n",
    "        return spam_probability\n"
   ]
  },
  {
   "cell_type": "code",
   "execution_count": 8,
   "id": "bea8de72",
   "metadata": {
    "execution": {
     "iopub.execute_input": "2024-02-27T01:05:13.766473Z",
     "iopub.status.busy": "2024-02-27T01:05:13.765778Z",
     "iopub.status.idle": "2024-02-27T01:05:13.880537Z",
     "shell.execute_reply": "2024-02-27T01:05:13.879613Z"
    },
    "papermill": {
     "duration": 0.125951,
     "end_time": "2024-02-27T01:05:13.883124",
     "exception": false,
     "start_time": "2024-02-27T01:05:13.757173",
     "status": "completed"
    },
    "tags": []
   },
   "outputs": [],
   "source": [
    "filter = BayesianSpamFilter()\n",
    "filter.train(messages, labels)"
   ]
  },
  {
   "cell_type": "code",
   "execution_count": 9,
   "id": "ac8fb61c",
   "metadata": {
    "execution": {
     "iopub.execute_input": "2024-02-27T01:05:13.899386Z",
     "iopub.status.busy": "2024-02-27T01:05:13.898685Z",
     "iopub.status.idle": "2024-02-27T01:05:13.903655Z",
     "shell.execute_reply": "2024-02-27T01:05:13.902918Z"
    },
    "papermill": {
     "duration": 0.015609,
     "end_time": "2024-02-27T01:05:13.905830",
     "exception": false,
     "start_time": "2024-02-27T01:05:13.890221",
     "status": "completed"
    },
    "tags": []
   },
   "outputs": [
    {
     "name": "stdout",
     "output_type": "stream",
     "text": [
      "Spam probability: 0.9999942104611959\n"
     ]
    }
   ],
   "source": [
    "test_message = \"Free entry in 2 a wkly comp\"\n",
    "spam_probability = filter.classify(test_message)\n",
    "print(\"Spam probability:\", spam_probability)"
   ]
  },
  {
   "cell_type": "markdown",
   "id": "d5257444",
   "metadata": {
    "papermill": {
     "duration": 0.00694,
     "end_time": "2024-02-27T01:05:13.919995",
     "exception": false,
     "start_time": "2024-02-27T01:05:13.913055",
     "status": "completed"
    },
    "tags": []
   },
   "source": [
    "# **Heuristic Filtering**"
   ]
  },
  {
   "cell_type": "code",
   "execution_count": 10,
   "id": "a1c5a5a6",
   "metadata": {
    "execution": {
     "iopub.execute_input": "2024-02-27T01:05:13.936532Z",
     "iopub.status.busy": "2024-02-27T01:05:13.935847Z",
     "iopub.status.idle": "2024-02-27T01:05:13.945458Z",
     "shell.execute_reply": "2024-02-27T01:05:13.944215Z"
    },
    "papermill": {
     "duration": 0.021124,
     "end_time": "2024-02-27T01:05:13.948325",
     "exception": false,
     "start_time": "2024-02-27T01:05:13.927201",
     "status": "completed"
    },
    "tags": []
   },
   "outputs": [],
   "source": [
    "import re\n",
    "\n",
    "class HeuristicSpamFilter:\n",
    "    def __init__(self):\n",
    "        self.suspicious_keywords = ['free', 'buy now', 'winner', 'guaranteed', 'act now']\n",
    "        self.spammy_patterns = [r'\\b\\d{4,}\\b']  # Example: 4 or more consecutive digits\n",
    "        # Adding a simple regex pattern to identify URLs; this can be enhanced for more robust detection\n",
    "        self.url_pattern = r'https?://(?:[-\\w.]|(?:%[\\da-fA-F]{2}))+'\n",
    "\n",
    "    def check_keywords(self, message):\n",
    "        for keyword in self.suspicious_keywords:\n",
    "            if keyword in message.lower():\n",
    "                return True\n",
    "        return False\n",
    "\n",
    "    def check_structure(self, message):\n",
    "        for pattern in self.spammy_patterns:\n",
    "            if re.search(pattern, message):\n",
    "                return True\n",
    "        return False\n",
    "\n",
    "    def check_urls(self, message):\n",
    "        return re.search(self.url_pattern, message) is not None\n",
    "\n",
    "    def is_spam(self, message):\n",
    "        if self.check_keywords(message):\n",
    "            return 'spam'\n",
    "        if self.check_structure(message):\n",
    "            return 'spam'\n",
    "        if self.check_urls(message):\n",
    "            return 'spam'\n",
    "        return 'ham'\n"
   ]
  },
  {
   "cell_type": "code",
   "execution_count": 11,
   "id": "c2b3d5ea",
   "metadata": {
    "execution": {
     "iopub.execute_input": "2024-02-27T01:05:13.964842Z",
     "iopub.status.busy": "2024-02-27T01:05:13.964427Z",
     "iopub.status.idle": "2024-02-27T01:05:14.025464Z",
     "shell.execute_reply": "2024-02-27T01:05:14.024235Z"
    },
    "papermill": {
     "duration": 0.072215,
     "end_time": "2024-02-27T01:05:14.027906",
     "exception": false,
     "start_time": "2024-02-27T01:05:13.955691",
     "status": "completed"
    },
    "tags": []
   },
   "outputs": [
    {
     "name": "stdout",
     "output_type": "stream",
     "text": [
      "0.970208183776023\n"
     ]
    }
   ],
   "source": [
    "filterh = HeuristicSpamFilter()\n",
    "\n",
    "# Apply the filter to classify each SMS message\n",
    "spam = messages.apply(filterh.is_spam)\n",
    "accuracy = (spam == labels).mean()\n",
    "# Display the classified messages\n",
    "print(accuracy )"
   ]
  },
  {
   "cell_type": "markdown",
   "id": "d61deecc",
   "metadata": {
    "papermill": {
     "duration": 0.007077,
     "end_time": "2024-02-27T01:05:14.042418",
     "exception": false,
     "start_time": "2024-02-27T01:05:14.035341",
     "status": "completed"
    },
    "tags": []
   },
   "source": [
    "# **CollaborativeSpamFilter**"
   ]
  },
  {
   "cell_type": "code",
   "execution_count": 12,
   "id": "f00d9ae5",
   "metadata": {
    "execution": {
     "iopub.execute_input": "2024-02-27T01:05:14.059417Z",
     "iopub.status.busy": "2024-02-27T01:05:14.058389Z",
     "iopub.status.idle": "2024-02-27T01:05:14.077050Z",
     "shell.execute_reply": "2024-02-27T01:05:14.075970Z"
    },
    "papermill": {
     "duration": 0.029542,
     "end_time": "2024-02-27T01:05:14.079334",
     "exception": false,
     "start_time": "2024-02-27T01:05:14.049792",
     "status": "completed"
    },
    "tags": []
   },
   "outputs": [
    {
     "name": "stdout",
     "output_type": "stream",
     "text": [
      "0       ham\n",
      "1       ham\n",
      "2       ham\n",
      "3       ham\n",
      "4       ham\n",
      "       ... \n",
      "5567    ham\n",
      "5568    ham\n",
      "5569    ham\n",
      "5570    ham\n",
      "5571    ham\n",
      "Name: v2, Length: 5572, dtype: object\n"
     ]
    }
   ],
   "source": [
    "import pandas as pd\n",
    "\n",
    "class CollaborativeSpamFilter:\n",
    "    def __init__(self):\n",
    "        self.spam_reports = {}  # Dictionary to store spam reports for each message\n",
    "\n",
    "    def report_spam(self, message):\n",
    "        if message in self.spam_reports:\n",
    "            self.spam_reports[message] += 1\n",
    "        else:\n",
    "            self.spam_reports[message] = 1\n",
    "\n",
    "    def is_spam(self, message, threshold=3):\n",
    "        if message in self.spam_reports:\n",
    "            if self.spam_reports[message] >= threshold:\n",
    "                return 'spam'\n",
    "            else:\n",
    "                return 'ham'\n",
    "        return 'ham'\n",
    "\n",
    "# Example usage\n",
    "filter = CollaborativeSpamFilter()\n",
    "\n",
    "# Load the SMS spam dataset  # Update with the actual filename and path\n",
    "\n",
    "# Choose messages labeled as spam to add to the report\n",
    "spam_messages = messages[labels == 'spam']\n",
    "\n",
    "# Simulate user feedback by reporting spam messages\n",
    "for message in spam_messages:\n",
    "    filter.report_spam(message)\n",
    "\n",
    "# Apply the filter to classify messages\n",
    "isspam = messages.apply(lambda message: filter.is_spam(message))\n",
    "\n",
    "# Display the classified messages\n",
    "print(isspam)\n"
   ]
  },
  {
   "cell_type": "code",
   "execution_count": 13,
   "id": "d2e409e6",
   "metadata": {
    "execution": {
     "iopub.execute_input": "2024-02-27T01:05:14.095832Z",
     "iopub.status.busy": "2024-02-27T01:05:14.095395Z",
     "iopub.status.idle": "2024-02-27T01:05:14.103357Z",
     "shell.execute_reply": "2024-02-27T01:05:14.102276Z"
    },
    "papermill": {
     "duration": 0.018809,
     "end_time": "2024-02-27T01:05:14.105568",
     "exception": false,
     "start_time": "2024-02-27T01:05:14.086759",
     "status": "completed"
    },
    "tags": []
   },
   "outputs": [
    {
     "name": "stdout",
     "output_type": "stream",
     "text": [
      "0.8693467336683417\n"
     ]
    }
   ],
   "source": [
    "accuracy = (isspam == labels).mean()\n",
    "# Display the classified messages\n",
    "print(accuracy )"
   ]
  }
 ],
 "metadata": {
  "kaggle": {
   "accelerator": "none",
   "dataSources": [
    {
     "datasetId": 483,
     "sourceId": 982,
     "sourceType": "datasetVersion"
    }
   ],
   "dockerImageVersionId": 30646,
   "isGpuEnabled": false,
   "isInternetEnabled": false,
   "language": "python",
   "sourceType": "notebook"
  },
  "kernelspec": {
   "display_name": "Python 3",
   "language": "python",
   "name": "python3"
  },
  "language_info": {
   "codemirror_mode": {
    "name": "ipython",
    "version": 3
   },
   "file_extension": ".py",
   "mimetype": "text/x-python",
   "name": "python",
   "nbconvert_exporter": "python",
   "pygments_lexer": "ipython3",
   "version": "3.10.13"
  },
  "papermill": {
   "default_parameters": {},
   "duration": 7.749914,
   "end_time": "2024-02-27T01:05:14.835632",
   "environment_variables": {},
   "exception": null,
   "input_path": "__notebook__.ipynb",
   "output_path": "__notebook__.ipynb",
   "parameters": {},
   "start_time": "2024-02-27T01:05:07.085718",
   "version": "2.5.0"
  }
 },
 "nbformat": 4,
 "nbformat_minor": 5
}
